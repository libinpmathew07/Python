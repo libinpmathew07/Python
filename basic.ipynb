{
 "cells": [
  {
   "cell_type": "code",
   "execution_count": 1,
   "metadata": {},
   "outputs": [],
   "source": [
    "name=\"john\"\n",
    "mark=94.5"
   ]
  },
  {
   "cell_type": "code",
   "execution_count": 2,
   "metadata": {},
   "outputs": [
    {
     "name": "stdout",
     "output_type": "stream",
     "text": [
      "name is john,Marks are 94.50\n"
     ]
    }
   ],
   "source": [
    "print(\"name is %s,Marks are %.2f\"%(name,mark))"
   ]
  },
  {
   "cell_type": "code",
   "execution_count": 3,
   "metadata": {},
   "outputs": [
    {
     "name": "stdout",
     "output_type": "stream",
     "text": [
      "4\n",
      "4\n"
     ]
    }
   ],
   "source": [
    "s=input()\n",
    "print(s)"
   ]
  },
  {
   "cell_type": "code",
   "execution_count": 4,
   "metadata": {},
   "outputs": [
    {
     "name": "stdout",
     "output_type": "stream",
     "text": [
      "Enter your name\n",
      "\n"
     ]
    }
   ],
   "source": [
    "s=input(\"Enter your name\")\n",
    "print(s)"
   ]
  },
  {
   "cell_type": "code",
   "execution_count": 5,
   "metadata": {},
   "outputs": [
    {
     "name": "stdout",
     "output_type": "stream",
     "text": [
      "enter 3 number sep by space\n"
     ]
    }
   ],
   "source": [
    "lis=[x for x in input(\"enter 3 number sep by space\").split()]"
   ]
  },
  {
   "cell_type": "code",
   "execution_count": 6,
   "metadata": {},
   "outputs": [
    {
     "data": {
      "text/plain": [
       "[]"
      ]
     },
     "execution_count": 6,
     "metadata": {},
     "output_type": "execute_result"
    }
   ],
   "source": [
    "lis"
   ]
  },
  {
   "cell_type": "code",
   "execution_count": 7,
   "metadata": {},
   "outputs": [
    {
     "name": "stdout",
     "output_type": "stream",
     "text": [
      "enter 3 number sep by space\n"
     ]
    }
   ],
   "source": [
    "lis=[int(x) for x in input(\"enter 3 number sep by space\").split()]"
   ]
  },
  {
   "cell_type": "code",
   "execution_count": 8,
   "metadata": {},
   "outputs": [
    {
     "data": {
      "text/plain": [
       "[]"
      ]
     },
     "execution_count": 8,
     "metadata": {},
     "output_type": "execute_result"
    }
   ],
   "source": [
    "lis"
   ]
  },
  {
   "cell_type": "code",
   "execution_count": 9,
   "metadata": {},
   "outputs": [
    {
     "name": "stdout",
     "output_type": "stream",
     "text": [
      "enter 3 number sep by coma\n"
     ]
    },
    {
     "ename": "ValueError",
     "evalue": "invalid literal for int() with base 10: ''",
     "output_type": "error",
     "traceback": [
      "\u001b[1;31m---------------------------------------------------------------------------\u001b[0m",
      "\u001b[1;31mValueError\u001b[0m                                Traceback (most recent call last)",
      "\u001b[1;32m<ipython-input-9-b0b3e18a4e76>\u001b[0m in \u001b[0;36m<module>\u001b[1;34m\u001b[0m\n\u001b[1;32m----> 1\u001b[1;33m \u001b[0mlis\u001b[0m\u001b[1;33m=\u001b[0m\u001b[1;33m[\u001b[0m\u001b[0mint\u001b[0m\u001b[1;33m(\u001b[0m\u001b[0mx\u001b[0m\u001b[1;33m)\u001b[0m \u001b[1;32mfor\u001b[0m \u001b[0mx\u001b[0m \u001b[1;32min\u001b[0m \u001b[0minput\u001b[0m\u001b[1;33m(\u001b[0m\u001b[1;34m\"enter 3 number sep by coma\"\u001b[0m\u001b[1;33m)\u001b[0m\u001b[1;33m.\u001b[0m\u001b[0msplit\u001b[0m\u001b[1;33m(\u001b[0m\u001b[1;34m','\u001b[0m\u001b[1;33m)\u001b[0m\u001b[1;33m]\u001b[0m\u001b[1;33m\u001b[0m\u001b[1;33m\u001b[0m\u001b[0m\n\u001b[0m",
      "\u001b[1;32m<ipython-input-9-b0b3e18a4e76>\u001b[0m in \u001b[0;36m<listcomp>\u001b[1;34m(.0)\u001b[0m\n\u001b[1;32m----> 1\u001b[1;33m \u001b[0mlis\u001b[0m\u001b[1;33m=\u001b[0m\u001b[1;33m[\u001b[0m\u001b[0mint\u001b[0m\u001b[1;33m(\u001b[0m\u001b[0mx\u001b[0m\u001b[1;33m)\u001b[0m \u001b[1;32mfor\u001b[0m \u001b[0mx\u001b[0m \u001b[1;32min\u001b[0m \u001b[0minput\u001b[0m\u001b[1;33m(\u001b[0m\u001b[1;34m\"enter 3 number sep by coma\"\u001b[0m\u001b[1;33m)\u001b[0m\u001b[1;33m.\u001b[0m\u001b[0msplit\u001b[0m\u001b[1;33m(\u001b[0m\u001b[1;34m','\u001b[0m\u001b[1;33m)\u001b[0m\u001b[1;33m]\u001b[0m\u001b[1;33m\u001b[0m\u001b[1;33m\u001b[0m\u001b[0m\n\u001b[0m",
      "\u001b[1;31mValueError\u001b[0m: invalid literal for int() with base 10: ''"
     ]
    }
   ],
   "source": [
    "lis=[int(x) for x in input(\"enter 3 number sep by coma\").split(',')]"
   ]
  },
  {
   "cell_type": "code",
   "execution_count": null,
   "metadata": {},
   "outputs": [],
   "source": [
    "lis"
   ]
  },
  {
   "cell_type": "code",
   "execution_count": null,
   "metadata": {},
   "outputs": [],
   "source": [
    "x=3"
   ]
  },
  {
   "cell_type": "code",
   "execution_count": null,
   "metadata": {},
   "outputs": [],
   "source": []
  },
  {
   "cell_type": "code",
   "execution_count": null,
   "metadata": {},
   "outputs": [],
   "source": []
  },
  {
   "cell_type": "code",
   "execution_count": null,
   "metadata": {},
   "outputs": [],
   "source": [
    "def cube(n):\n",
    "    return n**3"
   ]
  },
  {
   "cell_type": "code",
   "execution_count": null,
   "metadata": {},
   "outputs": [],
   "source": [
    "cube(2)"
   ]
  },
  {
   "cell_type": "code",
   "execution_count": null,
   "metadata": {},
   "outputs": [],
   "source": [
    "f=lambda n: n**3"
   ]
  },
  {
   "cell_type": "code",
   "execution_count": null,
   "metadata": {},
   "outputs": [],
   "source": [
    "f(2)"
   ]
  },
  {
   "cell_type": "code",
   "execution_count": null,
   "metadata": {},
   "outputs": [],
   "source": [
    "iseven= lambda x: \"yes\" if x%2==0 else \"No\""
   ]
  },
  {
   "cell_type": "code",
   "execution_count": null,
   "metadata": {},
   "outputs": [],
   "source": [
    "iseven(9)"
   ]
  },
  {
   "cell_type": "code",
   "execution_count": null,
   "metadata": {},
   "outputs": [],
   "source": [
    "iseven(12)"
   ]
  },
  {
   "cell_type": "code",
   "execution_count": null,
   "metadata": {},
   "outputs": [],
   "source": [
    "sum=lambda x,y: x+y"
   ]
  },
  {
   "cell_type": "code",
   "execution_count": null,
   "metadata": {},
   "outputs": [],
   "source": [
    "sum(4,5)"
   ]
  },
  {
   "cell_type": "code",
   "execution_count": null,
   "metadata": {},
   "outputs": [],
   "source": [
    "lis=[10,2,13,3,45,89,2]"
   ]
  },
  {
   "cell_type": "code",
   "execution_count": null,
   "metadata": {},
   "outputs": [],
   "source": [
    "reslt=filter(lambda x:x%2==0,lis)"
   ]
  },
  {
   "cell_type": "code",
   "execution_count": null,
   "metadata": {},
   "outputs": [],
   "source": [
    "reslt"
   ]
  },
  {
   "cell_type": "code",
   "execution_count": null,
   "metadata": {},
   "outputs": [],
   "source": [
    "k=list(reslt)"
   ]
  },
  {
   "cell_type": "code",
   "execution_count": null,
   "metadata": {},
   "outputs": [],
   "source": [
    "k"
   ]
  },
  {
   "cell_type": "code",
   "execution_count": null,
   "metadata": {},
   "outputs": [],
   "source": [
    "for i in k:\n",
    "    print(i)"
   ]
  },
  {
   "cell_type": "code",
   "execution_count": null,
   "metadata": {},
   "outputs": [],
   "source": [
    "lis=[2,3,4,5]"
   ]
  },
  {
   "cell_type": "code",
   "execution_count": null,
   "metadata": {},
   "outputs": [],
   "source": [
    "rslt=map(lambda n:n*2,lis)"
   ]
  },
  {
   "cell_type": "code",
   "execution_count": null,
   "metadata": {},
   "outputs": [],
   "source": [
    "m=list(rslt)"
   ]
  },
  {
   "cell_type": "code",
   "execution_count": null,
   "metadata": {},
   "outputs": [],
   "source": [
    "m"
   ]
  },
  {
   "cell_type": "code",
   "execution_count": null,
   "metadata": {},
   "outputs": [],
   "source": [
    "lis=[4,5,6,8,9,45]"
   ]
  },
  {
   "cell_type": "code",
   "execution_count": null,
   "metadata": {},
   "outputs": [],
   "source": [
    "from functools import reduce"
   ]
  },
  {
   "cell_type": "code",
   "execution_count": null,
   "metadata": {},
   "outputs": [],
   "source": [
    "reduce(lambda x,y:x+y,lis)"
   ]
  },
  {
   "cell_type": "code",
   "execution_count": null,
   "metadata": {},
   "outputs": [],
   "source": []
  },
  {
   "cell_type": "code",
   "execution_count": null,
   "metadata": {},
   "outputs": [],
   "source": [
    "def decdouble(fn):\n",
    "    def inner():\n",
    "        re=fn()\n",
    "        return re*2\n",
    "    return inner\n",
    "\n",
    "        "
   ]
  },
  {
   "cell_type": "code",
   "execution_count": null,
   "metadata": {},
   "outputs": [],
   "source": [
    "def num():\n",
    "    return 6\n",
    "    "
   ]
  },
  {
   "cell_type": "code",
   "execution_count": null,
   "metadata": {},
   "outputs": [],
   "source": [
    "res=decdouble(num)"
   ]
  },
  {
   "cell_type": "code",
   "execution_count": null,
   "metadata": {},
   "outputs": [],
   "source": [
    "print(res())"
   ]
  },
  {
   "cell_type": "code",
   "execution_count": null,
   "metadata": {},
   "outputs": [],
   "source": [
    "@decdouble\n",
    "def ranat():\n",
    "    return 4"
   ]
  },
  {
   "cell_type": "code",
   "execution_count": null,
   "metadata": {},
   "outputs": [],
   "source": [
    "ranat()"
   ]
  },
  {
   "cell_type": "code",
   "execution_count": null,
   "metadata": {},
   "outputs": [],
   "source": [
    "def decname(fn):\n",
    "    def inner():\n",
    "        re=fn()\n",
    "        return re+' How are you'\n",
    "    return inner"
   ]
  },
  {
   "cell_type": "code",
   "execution_count": null,
   "metadata": {},
   "outputs": [],
   "source": [
    "@decname\n",
    "def namm():\n",
    "    return 'libin'"
   ]
  },
  {
   "cell_type": "code",
   "execution_count": null,
   "metadata": {},
   "outputs": [],
   "source": [
    "namm()"
   ]
  },
  {
   "cell_type": "code",
   "execution_count": null,
   "metadata": {},
   "outputs": [],
   "source": [
    "def decnamenew(fn):\n",
    "    def inner(arg):\n",
    "        re=fn(arg)\n",
    "        return re+' How are you'\n",
    "    return inner"
   ]
  },
  {
   "cell_type": "code",
   "execution_count": null,
   "metadata": {},
   "outputs": [],
   "source": [
    "@decnamenew\n",
    "def hello(nma):\n",
    "    return \"hello \"+nma"
   ]
  },
  {
   "cell_type": "code",
   "execution_count": null,
   "metadata": {},
   "outputs": [],
   "source": [
    "hello('kjhg')"
   ]
  },
  {
   "cell_type": "code",
   "execution_count": null,
   "metadata": {},
   "outputs": [],
   "source": [
    "def cusomge(x,y):\n",
    "    while x<y:\n",
    "        return x\n",
    "        x+=1"
   ]
  },
  {
   "cell_type": "code",
   "execution_count": null,
   "metadata": {},
   "outputs": [],
   "source": [
    "resu=cusomge(20,30)"
   ]
  },
  {
   "cell_type": "code",
   "execution_count": null,
   "metadata": {},
   "outputs": [],
   "source": [
    "for i in resu:\n",
    "    print(i)"
   ]
  },
  {
   "cell_type": "code",
   "execution_count": 11,
   "metadata": {},
   "outputs": [
    {
     "ename": "NameError",
     "evalue": "name 'resu' is not defined",
     "output_type": "error",
     "traceback": [
      "\u001b[1;31m---------------------------------------------------------------------------\u001b[0m",
      "\u001b[1;31mNameError\u001b[0m                                 Traceback (most recent call last)",
      "\u001b[1;32m<ipython-input-11-4d54e1e85175>\u001b[0m in \u001b[0;36m<module>\u001b[1;34m\u001b[0m\n\u001b[1;32m----> 1\u001b[1;33m \u001b[0mresu\u001b[0m\u001b[1;33m\u001b[0m\u001b[1;33m\u001b[0m\u001b[0m\n\u001b[0m",
      "\u001b[1;31mNameError\u001b[0m: name 'resu' is not defined"
     ]
    }
   ],
   "source": [
    "resu"
   ]
  },
  {
   "cell_type": "code",
   "execution_count": 15,
   "metadata": {},
   "outputs": [
    {
     "ename": "ModuleNotFoundError",
     "evalue": "No module named 'moduleeg'",
     "output_type": "error",
     "traceback": [
      "\u001b[1;31m---------------------------------------------------------------------------\u001b[0m",
      "\u001b[1;31mModuleNotFoundError\u001b[0m                       Traceback (most recent call last)",
      "\u001b[1;32m<ipython-input-15-e96776b6076e>\u001b[0m in \u001b[0;36m<module>\u001b[1;34m\u001b[0m\n\u001b[1;32m----> 1\u001b[1;33m \u001b[1;32mimport\u001b[0m \u001b[0mmoduleeg\u001b[0m\u001b[1;33m\u001b[0m\u001b[1;33m\u001b[0m\u001b[0m\n\u001b[0m",
      "\u001b[1;31mModuleNotFoundError\u001b[0m: No module named 'moduleeg'"
     ]
    }
   ],
   "source": [
    "import moduleeg"
   ]
  },
  {
   "cell_type": "code",
   "execution_count": 33,
   "metadata": {},
   "outputs": [],
   "source": [
    "lis=[x for x in range(1,21)]"
   ]
  },
  {
   "cell_type": "code",
   "execution_count": 35,
   "metadata": {},
   "outputs": [],
   "source": [
    "lis2=filter(lambda x: x%2==0,lis)\n"
   ]
  },
  {
   "cell_type": "code",
   "execution_count": 36,
   "metadata": {},
   "outputs": [
    {
     "data": {
      "text/plain": [
       "[2, 4, 6, 8, 10, 12, 14, 16, 18, 20]"
      ]
     },
     "execution_count": 36,
     "metadata": {},
     "output_type": "execute_result"
    }
   ],
   "source": [
    "list(lis2)"
   ]
  },
  {
   "cell_type": "code",
   "execution_count": 34,
   "metadata": {},
   "outputs": [
    {
     "data": {
      "text/plain": [
       "[1, 2, 3, 4, 5, 6, 7, 8, 9, 10, 11, 12, 13, 14, 15, 16, 17, 18, 19, 20]"
      ]
     },
     "execution_count": 34,
     "metadata": {},
     "output_type": "execute_result"
    }
   ],
   "source": [
    "lis"
   ]
  },
  {
   "cell_type": "code",
   "execution_count": 47,
   "metadata": {},
   "outputs": [],
   "source": [
    "onelis=filter(lambda x: x%2==0,list(x for x in range(1,21)))"
   ]
  },
  {
   "cell_type": "code",
   "execution_count": 48,
   "metadata": {},
   "outputs": [
    {
     "data": {
      "text/plain": [
       "[2, 4, 6, 8, 10, 12, 14, 16, 18, 20]"
      ]
     },
     "execution_count": 48,
     "metadata": {},
     "output_type": "execute_result"
    }
   ],
   "source": [
    "list(onelis)"
   ]
  },
  {
   "cell_type": "code",
   "execution_count": 51,
   "metadata": {},
   "outputs": [],
   "source": [
    "anotherway=[x for x in range(2,21,2)]"
   ]
  },
  {
   "cell_type": "code",
   "execution_count": 52,
   "metadata": {},
   "outputs": [
    {
     "data": {
      "text/plain": [
       "[2, 4, 6, 8, 10, 12, 14, 16, 18, 20]"
      ]
     },
     "execution_count": 52,
     "metadata": {},
     "output_type": "execute_result"
    }
   ],
   "source": [
    "anotherway"
   ]
  },
  {
   "cell_type": "code",
   "execution_count": 53,
   "metadata": {},
   "outputs": [],
   "source": [
    "onemoreway=[x for x in range(1,21) if x%2==0]"
   ]
  },
  {
   "cell_type": "code",
   "execution_count": 54,
   "metadata": {},
   "outputs": [
    {
     "data": {
      "text/plain": [
       "[2, 4, 6, 8, 10, 12, 14, 16, 18, 20]"
      ]
     },
     "execution_count": 54,
     "metadata": {},
     "output_type": "execute_result"
    }
   ],
   "source": [
    "onemoreway"
   ]
  },
  {
   "cell_type": "code",
   "execution_count": 56,
   "metadata": {},
   "outputs": [],
   "source": [
    "a=[2,4,6]\n",
    "b=[8,9,6]"
   ]
  },
  {
   "cell_type": "code",
   "execution_count": 55,
   "metadata": {},
   "outputs": [],
   "source": [
    "q=[]"
   ]
  },
  {
   "cell_type": "code",
   "execution_count": 57,
   "metadata": {},
   "outputs": [
    {
     "name": "stdout",
     "output_type": "stream",
     "text": [
      "[16, 36, 36]\n"
     ]
    }
   ],
   "source": [
    "for i in range(len(a)):\n",
    "    q.append(a[i]*b[i])\n",
    "print(q)"
   ]
  },
  {
   "cell_type": "code",
   "execution_count": 60,
   "metadata": {},
   "outputs": [],
   "source": [
    "z=[a[i]*b[i] for i in range(len(a))]"
   ]
  },
  {
   "cell_type": "code",
   "execution_count": 61,
   "metadata": {},
   "outputs": [
    {
     "data": {
      "text/plain": [
       "[16, 36, 36]"
      ]
     },
     "execution_count": 61,
     "metadata": {},
     "output_type": "execute_result"
    }
   ],
   "source": [
    "z"
   ]
  },
  {
   "cell_type": "code",
   "execution_count": null,
   "metadata": {},
   "outputs": [],
   "source": [
    "for i in a:\n",
    "    if "
   ]
  },
  {
   "cell_type": "code",
   "execution_count": 67,
   "metadata": {},
   "outputs": [],
   "source": [
    "\n",
    "z=[i for i in a if i in b]"
   ]
  },
  {
   "cell_type": "code",
   "execution_count": 68,
   "metadata": {},
   "outputs": [
    {
     "data": {
      "text/plain": [
       "[6]"
      ]
     },
     "execution_count": 68,
     "metadata": {},
     "output_type": "execute_result"
    }
   ],
   "source": [
    "z"
   ]
  },
  {
   "cell_type": "code",
   "execution_count": 69,
   "metadata": {},
   "outputs": [],
   "source": [
    "class Product:\n",
    "    def __init__(self):\n",
    "        self.name=\"IPhone\"\n",
    "        self.Price=750\n",
    "        self.rating=5"
   ]
  },
  {
   "cell_type": "code",
   "execution_count": 70,
   "metadata": {},
   "outputs": [],
   "source": [
    "p1=Product()"
   ]
  },
  {
   "cell_type": "code",
   "execution_count": 71,
   "metadata": {},
   "outputs": [
    {
     "data": {
      "text/plain": [
       "'IPhone'"
      ]
     },
     "execution_count": 71,
     "metadata": {},
     "output_type": "execute_result"
    }
   ],
   "source": [
    "p1.name\n"
   ]
  },
  {
   "cell_type": "code",
   "execution_count": 72,
   "metadata": {},
   "outputs": [
    {
     "data": {
      "text/plain": [
       "5"
      ]
     },
     "execution_count": 72,
     "metadata": {},
     "output_type": "execute_result"
    }
   ],
   "source": [
    "p1.rating"
   ]
  },
  {
   "cell_type": "code",
   "execution_count": 73,
   "metadata": {},
   "outputs": [
    {
     "data": {
      "text/plain": [
       "750"
      ]
     },
     "execution_count": 73,
     "metadata": {},
     "output_type": "execute_result"
    }
   ],
   "source": [
    "p1.Price"
   ]
  },
  {
   "cell_type": "code",
   "execution_count": 74,
   "metadata": {},
   "outputs": [],
   "source": [
    "P2=Product()"
   ]
  },
  {
   "cell_type": "code",
   "execution_count": 76,
   "metadata": {},
   "outputs": [
    {
     "data": {
      "text/plain": [
       "750"
      ]
     },
     "execution_count": 76,
     "metadata": {},
     "output_type": "execute_result"
    }
   ],
   "source": [
    "P2.Price"
   ]
  },
  {
   "cell_type": "code",
   "execution_count": 78,
   "metadata": {},
   "outputs": [],
   "source": [
    "class Course:\n",
    "    def __init__(self,name,ratings):\n",
    "        self.name=name\n",
    "        self.ratings=ratings\n",
    "        \n",
    "        "
   ]
  },
  {
   "cell_type": "code",
   "execution_count": 80,
   "metadata": {},
   "outputs": [],
   "source": [
    "C1=Course(\"Python\",[1,2,3,4,5])"
   ]
  },
  {
   "cell_type": "code",
   "execution_count": 84,
   "metadata": {},
   "outputs": [],
   "source": [
    "C2=Course(\"Java\",[5,4,3,5,5])"
   ]
  },
  {
   "cell_type": "code",
   "execution_count": 82,
   "metadata": {},
   "outputs": [
    {
     "name": "stdout",
     "output_type": "stream",
     "text": [
      "Python [1, 2, 3, 4, 5]\n"
     ]
    }
   ],
   "source": [
    "print(C1.name,C1.ratings)"
   ]
  },
  {
   "cell_type": "code",
   "execution_count": 85,
   "metadata": {},
   "outputs": [
    {
     "name": "stdout",
     "output_type": "stream",
     "text": [
      "Java [5, 4, 3, 5, 5]\n"
     ]
    }
   ],
   "source": [
    "print(C2.name,C2.ratings)"
   ]
  },
  {
   "cell_type": "code",
   "execution_count": null,
   "metadata": {},
   "outputs": [],
   "source": []
  },
  {
   "cell_type": "code",
   "execution_count": null,
   "metadata": {},
   "outputs": [],
   "source": []
  },
  {
   "cell_type": "code",
   "execution_count": 114,
   "metadata": {},
   "outputs": [],
   "source": [
    "class Course:\n",
    "    def __init__(self,name,ratings):\n",
    "        self.name=name\n",
    "        self.ratings=ratings\n",
    "    def average(self):\n",
    "        return (sum(self.ratings)/len(self.ratings))"
   ]
  },
  {
   "cell_type": "code",
   "execution_count": 96,
   "metadata": {},
   "outputs": [],
   "source": [
    "C1=Course(\"Python\",[1,2,3,4,5])"
   ]
  },
  {
   "cell_type": "code",
   "execution_count": 105,
   "metadata": {},
   "outputs": [
    {
     "data": {
      "text/plain": [
       "3.0"
      ]
     },
     "execution_count": 105,
     "metadata": {},
     "output_type": "execute_result"
    }
   ],
   "source": [
    "C1.average()"
   ]
  },
  {
   "cell_type": "code",
   "execution_count": 115,
   "metadata": {},
   "outputs": [],
   "source": [
    "C2=Course(\"Java\",[5,4,3,5,5])"
   ]
  },
  {
   "cell_type": "code",
   "execution_count": 116,
   "metadata": {},
   "outputs": [
    {
     "data": {
      "text/plain": [
       "4.4"
      ]
     },
     "execution_count": 116,
     "metadata": {},
     "output_type": "execute_result"
    }
   ],
   "source": [
    "C2.average()"
   ]
  },
  {
   "cell_type": "code",
   "execution_count": 117,
   "metadata": {},
   "outputs": [],
   "source": [
    "#Getter and Setter"
   ]
  },
  {
   "cell_type": "code",
   "execution_count": 48,
   "metadata": {},
   "outputs": [],
   "source": [
    "class Programmer:\n",
    "    def setName(self,n):\n",
    "        self.name=n\n",
    "        \n",
    "    def getName(self):\n",
    "        return self.name\n",
    "    \n",
    "    def setSalary(self,salary):\n",
    "        self.salary=salary\n",
    "        \n",
    "    def getSalary(self):\n",
    "        return self.salary\n",
    "    "
   ]
  },
  {
   "cell_type": "code",
   "execution_count": 49,
   "metadata": {},
   "outputs": [],
   "source": [
    "P1=Programmer()"
   ]
  },
  {
   "cell_type": "code",
   "execution_count": 50,
   "metadata": {},
   "outputs": [],
   "source": [
    "P1.setName('Libin')"
   ]
  },
  {
   "cell_type": "code",
   "execution_count": 51,
   "metadata": {},
   "outputs": [
    {
     "data": {
      "text/plain": [
       "'Libin'"
      ]
     },
     "execution_count": 51,
     "metadata": {},
     "output_type": "execute_result"
    }
   ],
   "source": [
    "P1.getName()"
   ]
  },
  {
   "cell_type": "code",
   "execution_count": 124,
   "metadata": {},
   "outputs": [],
   "source": [
    "P1.setSalary(1600)"
   ]
  },
  {
   "cell_type": "code",
   "execution_count": 126,
   "metadata": {},
   "outputs": [
    {
     "data": {
      "text/plain": [
       "1600"
      ]
     },
     "execution_count": 126,
     "metadata": {},
     "output_type": "execute_result"
    }
   ],
   "source": [
    "P1.getSalary()"
   ]
  },
  {
   "cell_type": "code",
   "execution_count": 127,
   "metadata": {},
   "outputs": [],
   "source": [
    "# Instance Methods"
   ]
  },
  {
   "cell_type": "code",
   "execution_count": 133,
   "metadata": {},
   "outputs": [],
   "source": [
    "class Product:\n",
    "    def __init__(self):\n",
    "        self.name=\"IPhone\"\n",
    "        self.Price=750\n",
    "        self.rating=5\n",
    "    def display(self):\n",
    "        print(self.name)\n",
    "        print(self.Price)\n",
    "        print(self.rating)"
   ]
  },
  {
   "cell_type": "code",
   "execution_count": 134,
   "metadata": {},
   "outputs": [],
   "source": [
    "P1=Product()"
   ]
  },
  {
   "cell_type": "code",
   "execution_count": 135,
   "metadata": {},
   "outputs": [
    {
     "name": "stdout",
     "output_type": "stream",
     "text": [
      "IPhone\n",
      "750\n",
      "5\n"
     ]
    }
   ],
   "source": [
    "P1.display() # invoking the method  by object"
   ]
  },
  {
   "cell_type": "code",
   "execution_count": 136,
   "metadata": {},
   "outputs": [],
   "source": [
    "#Static field"
   ]
  },
  {
   "cell_type": "code",
   "execution_count": 139,
   "metadata": {},
   "outputs": [],
   "source": [
    "class Student:\n",
    "    major=\"CSE\" #Common for all objects in the class\n",
    "    \n",
    "    def __init__(self,rollno,name):\n",
    "        self.roll_no=rollno\n",
    "        self.name=name\n",
    "        "
   ]
  },
  {
   "cell_type": "code",
   "execution_count": 140,
   "metadata": {},
   "outputs": [],
   "source": [
    "s1=Student(1,'Libin')"
   ]
  },
  {
   "cell_type": "code",
   "execution_count": 141,
   "metadata": {},
   "outputs": [],
   "source": [
    "s2=Student(2,'John')"
   ]
  },
  {
   "cell_type": "code",
   "execution_count": 144,
   "metadata": {},
   "outputs": [
    {
     "name": "stdout",
     "output_type": "stream",
     "text": [
      "CSE \t Libin \t 1\n"
     ]
    }
   ],
   "source": [
    "print(s1.major,\"\\t\",s1.name,\"\\t\",s1.roll_no )"
   ]
  },
  {
   "cell_type": "code",
   "execution_count": 145,
   "metadata": {},
   "outputs": [
    {
     "name": "stdout",
     "output_type": "stream",
     "text": [
      "CSE \t John \t 2\n"
     ]
    }
   ],
   "source": [
    "print(s2.major,\"\\t\",s2.name,\"\\t\",s2.roll_no )"
   ]
  },
  {
   "cell_type": "code",
   "execution_count": null,
   "metadata": {},
   "outputs": [],
   "source": []
  },
  {
   "cell_type": "code",
   "execution_count": 147,
   "metadata": {},
   "outputs": [],
   "source": [
    "class ObjectCounter:\n",
    "    numberofObjects=0\n",
    "    \n",
    "    def __init__(self):\n",
    "        ObjectCounter.numberofObjects+=1\n",
    "    \n",
    "    # creating a static method\n",
    "    \n",
    "    @staticmethod\n",
    "    def objectCountDisplay():\n",
    "        return ObjectCounter.numberofObjects"
   ]
  },
  {
   "cell_type": "code",
   "execution_count": 148,
   "metadata": {},
   "outputs": [],
   "source": [
    "o1=ObjectCounter()\n",
    "o2=ObjectCounter()\n",
    "o3=ObjectCounter()"
   ]
  },
  {
   "cell_type": "code",
   "execution_count": 149,
   "metadata": {},
   "outputs": [
    {
     "data": {
      "text/plain": [
       "3"
      ]
     },
     "execution_count": 149,
     "metadata": {},
     "output_type": "execute_result"
    }
   ],
   "source": [
    "#static methods can be accessed without class object\n",
    "\n",
    "ObjectCounter.objectCountDisplay()"
   ]
  },
  {
   "cell_type": "code",
   "execution_count": 150,
   "metadata": {},
   "outputs": [],
   "source": [
    "#Inner Class"
   ]
  },
  {
   "cell_type": "code",
   "execution_count": 151,
   "metadata": {},
   "outputs": [],
   "source": [
    "class Car:\n",
    "    def __init__(self,make,year):\n",
    "        self.make=make\n",
    "        self.year=year\n",
    "        \n",
    "    class Engine:\n",
    "        def __init__(self,number):\n",
    "            self.number=number\n",
    "        def start(self):\n",
    "            print(\"Engine started\")"
   ]
  },
  {
   "cell_type": "code",
   "execution_count": 152,
   "metadata": {},
   "outputs": [],
   "source": [
    "c=Car('Polo',2020)"
   ]
  },
  {
   "cell_type": "code",
   "execution_count": 153,
   "metadata": {},
   "outputs": [],
   "source": [
    "e=c.Engine(989)"
   ]
  },
  {
   "cell_type": "code",
   "execution_count": 154,
   "metadata": {},
   "outputs": [
    {
     "name": "stdout",
     "output_type": "stream",
     "text": [
      "Engine started\n"
     ]
    }
   ],
   "source": [
    "e.start()"
   ]
  },
  {
   "cell_type": "code",
   "execution_count": 155,
   "metadata": {},
   "outputs": [],
   "source": [
    "#Encapsulation"
   ]
  },
  {
   "cell_type": "code",
   "execution_count": 1,
   "metadata": {},
   "outputs": [
    {
     "ename": "AttributeError",
     "evalue": "'Student' object has no attribute '__name'",
     "output_type": "error",
     "traceback": [
      "\u001b[1;31m---------------------------------------------------------------------------\u001b[0m",
      "\u001b[1;31mAttributeError\u001b[0m                            Traceback (most recent call last)",
      "\u001b[1;32m<ipython-input-1-30110e4dec31>\u001b[0m in \u001b[0;36m<module>\u001b[1;34m\u001b[0m\n\u001b[0;32m      5\u001b[0m \u001b[1;33m\u001b[0m\u001b[0m\n\u001b[0;32m      6\u001b[0m \u001b[0ms\u001b[0m\u001b[1;33m=\u001b[0m\u001b[0mStudent\u001b[0m\u001b[1;33m(\u001b[0m\u001b[1;33m)\u001b[0m\u001b[1;33m\u001b[0m\u001b[1;33m\u001b[0m\u001b[0m\n\u001b[1;32m----> 7\u001b[1;33m \u001b[0mprint\u001b[0m\u001b[1;33m(\u001b[0m\u001b[0ms\u001b[0m\u001b[1;33m.\u001b[0m\u001b[0m__name\u001b[0m\u001b[1;33m)\u001b[0m\u001b[1;33m\u001b[0m\u001b[1;33m\u001b[0m\u001b[0m\n\u001b[0m\u001b[0;32m      8\u001b[0m \u001b[0mprint\u001b[0m\u001b[1;33m(\u001b[0m\u001b[0ms\u001b[0m\u001b[1;33m.\u001b[0m\u001b[0m__name\u001b[0m\u001b[1;33m)\u001b[0m\u001b[1;33m\u001b[0m\u001b[1;33m\u001b[0m\u001b[0m\n",
      "\u001b[1;31mAttributeError\u001b[0m: 'Student' object has no attribute '__name'"
     ]
    }
   ],
   "source": [
    "class Student:\n",
    "    def __init__(self):\n",
    "        self.__id=123\n",
    "        self.__name=\"John\"\n",
    "        \n",
    "s=Student()\n",
    "print(s.__name)\n",
    "print(s.__name)"
   ]
  },
  {
   "cell_type": "code",
   "execution_count": 10,
   "metadata": {},
   "outputs": [
    {
     "name": "stdout",
     "output_type": "stream",
     "text": [
      "John 123\n"
     ]
    }
   ],
   "source": [
    "class Student:\n",
    "    def __init__(self):\n",
    "        self.__id=123   #private fields\n",
    "        self.__name=\"John\"\n",
    "        \n",
    "    def display(self):\n",
    "        print(self.__name,self.__id)\n",
    "        \n",
    "s=Student()\n",
    "s.display()"
   ]
  },
  {
   "cell_type": "code",
   "execution_count": 4,
   "metadata": {},
   "outputs": [],
   "source": [
    "## Name mangling"
   ]
  },
  {
   "cell_type": "code",
   "execution_count": 9,
   "metadata": {},
   "outputs": [
    {
     "name": "stdout",
     "output_type": "stream",
     "text": [
      "123\n"
     ]
    }
   ],
   "source": [
    "class Student:\n",
    "    def __init__(self):\n",
    "        self.__id=123\n",
    "        self.__name=\"John\"\n",
    "        \n",
    "s=Student()\n",
    "print(s._Student__id) #Name mangling"
   ]
  },
  {
   "cell_type": "code",
   "execution_count": 76,
   "metadata": {},
   "outputs": [
    {
     "name": "stdout",
     "output_type": "stream",
     "text": [
      "123\n",
      "achu\n"
     ]
    }
   ],
   "source": [
    "class Student1:\n",
    "    def setName(self,n):\n",
    "        self.name=n\n",
    "        \n",
    "    def getName(self):\n",
    "        return self.name\n",
    "    \n",
    "    def setId(self,Id):\n",
    "        self.Id=Id\n",
    "        \n",
    "    def getId(self):\n",
    "        return self.Id\n",
    "    \n",
    "    \n",
    "d=Student1()\n",
    "d.setName('achu')\n",
    "d.setId(123)\n",
    "print(d.getId())\n",
    "print(d.getName())"
   ]
  },
  {
   "cell_type": "code",
   "execution_count": 77,
   "metadata": {},
   "outputs": [],
   "source": [
    "#Inheritance"
   ]
  },
  {
   "cell_type": "code",
   "execution_count": 78,
   "metadata": {},
   "outputs": [],
   "source": [
    "class BMW:\n",
    "    def __init__(self,make,year,model):\n",
    "        self.make=make\n",
    "        self.model=model\n",
    "        self.year=year\n",
    "        "
   ]
  },
  {
   "cell_type": "code",
   "execution_count": 79,
   "metadata": {},
   "outputs": [],
   "source": [
    "class Threeseries(BMW):\n",
    "    def __init__(self,CruiseControllEnabled,make,year,model):\n",
    "        BMW.__init__(self,make,year,model)\n",
    "        self.CruiseControllEnabled=CruiseControllEnabled\n",
    "        \n",
    "class Fiveseries(BMW):\n",
    "    def __init__(self,ParkingAssitEnabled,make,year,model):\n",
    "        BMW.__init__(self,make,year,model)\n",
    "        self.ParkingAssitEnabled=ParkingAssitEnabled"
   ]
  },
  {
   "cell_type": "code",
   "execution_count": 80,
   "metadata": {},
   "outputs": [],
   "source": [
    "thSrs=Threeseries(True,'BMW',2014,'3S')"
   ]
  },
  {
   "cell_type": "code",
   "execution_count": 81,
   "metadata": {},
   "outputs": [
    {
     "name": "stdout",
     "output_type": "stream",
     "text": [
      "True\n",
      "German\n",
      "2014\n",
      "3S\n"
     ]
    }
   ],
   "source": [
    "print(thSrs.CruiseControllEnabled)\n",
    "print(thSrs.make)\n",
    "print(thSrs.year)\n",
    "print(thSrs.model)"
   ]
  },
  {
   "cell_type": "code",
   "execution_count": 83,
   "metadata": {},
   "outputs": [],
   "source": [
    "### Accessing Methods of parent class"
   ]
  },
  {
   "cell_type": "code",
   "execution_count": 125,
   "metadata": {},
   "outputs": [],
   "source": [
    "class BMW:\n",
    "    def __init__(self,make,year,model):\n",
    "        self.make=make\n",
    "        self.model=model\n",
    "        self.year=year\n",
    "        \n",
    "    def start(self):\n",
    "        print(\"Car Started\")"
   ]
  },
  {
   "cell_type": "code",
   "execution_count": 130,
   "metadata": {},
   "outputs": [],
   "source": [
    "class Threeseries(BMW):\n",
    "    def __init__(self,CruiseControllEnabled,make,year,model):\n",
    "        BMW.__init__(self,make,year,model)\n",
    "        self.CruiseControllEnabled=CruiseControllEnabled\n",
    "        \n",
    "        \n",
    "class Fiveseries(BMW):\n",
    "    def __init__(self,ParkingAssitEnabled,make,year,model):\n",
    "        BMW.__init__(self,make,year,model)\n",
    "        self.ParkingAssitEnabled=ParkingAssitEnabled\n",
    "        \n",
    "    def parkAssist(self):\n",
    "        return \"Park assist Enabled\""
   ]
  },
  {
   "cell_type": "code",
   "execution_count": 131,
   "metadata": {},
   "outputs": [],
   "source": [
    "fvSrs=Fiveseries(True,'BMW',2014,'5S')"
   ]
  },
  {
   "cell_type": "code",
   "execution_count": 132,
   "metadata": {},
   "outputs": [
    {
     "name": "stdout",
     "output_type": "stream",
     "text": [
      "True\n",
      "BMW\n",
      "2014\n",
      "5S\n",
      "Car Started\n"
     ]
    },
    {
     "data": {
      "text/plain": [
       "'Park assist Enabled'"
      ]
     },
     "execution_count": 132,
     "metadata": {},
     "output_type": "execute_result"
    }
   ],
   "source": [
    "print(fvSrs.ParkingAssitEnabled)\n",
    "print(fvSrs.make)\n",
    "print(fvSrs.year)\n",
    "print(fvSrs.model)\n",
    "\n",
    "fvSrs.start() # Method in Parent Class\n",
    "fvSrs.parkAssist() #Method in child Class"
   ]
  },
  {
   "cell_type": "code",
   "execution_count": 109,
   "metadata": {},
   "outputs": [],
   "source": [
    "##Over Riding"
   ]
  },
  {
   "cell_type": "code",
   "execution_count": 110,
   "metadata": {},
   "outputs": [],
   "source": [
    "class Fiveseries(BMW):\n",
    "    def __init__(self,ParkingAssitEnabled,make,year,model):\n",
    "        BMW.__init__(self,make,year,model)\n",
    "        self.ParkingAssitEnabled=ParkingAssitEnabled\n",
    "        \n",
    "    def start(self):\n",
    "        return \"Car stated by pressing the Button\""
   ]
  },
  {
   "cell_type": "code",
   "execution_count": 112,
   "metadata": {},
   "outputs": [
    {
     "name": "stdout",
     "output_type": "stream",
     "text": [
      "True\n",
      "BMW\n",
      "2014\n",
      "5S\n"
     ]
    },
    {
     "data": {
      "text/plain": [
       "'Car stated by pressing the Button'"
      ]
     },
     "execution_count": 112,
     "metadata": {},
     "output_type": "execute_result"
    }
   ],
   "source": [
    "fvSrs=Fiveseries(True,'BMW',2014,'5S')\n",
    "print(fvSrs.ParkingAssitEnabled)\n",
    "print(fvSrs.make)\n",
    "print(fvSrs.year)\n",
    "print(fvSrs.model)\n",
    "\n",
    "fvSrs.start() # Method in Parent Class is overridden by Child Class"
   ]
  },
  {
   "cell_type": "code",
   "execution_count": 113,
   "metadata": {},
   "outputs": [],
   "source": [
    "### Super "
   ]
  },
  {
   "cell_type": "code",
   "execution_count": 133,
   "metadata": {},
   "outputs": [],
   "source": [
    "class Fiveseries(BMW):\n",
    "    def __init__(self,ParkingAssitEnabled,make,year,model):\n",
    "        #BMW.__init__(self,make,year,model)\n",
    "        super().__init__(make,year,model)\n",
    "        self.ParkingAssitEnabled=ParkingAssitEnabled\n",
    "        \n",
    "    def start(self):\n",
    "        super().start() ##Adding Functionality On top of the existing functionality\n",
    "        print(\"Car stated by pressing the Button\")"
   ]
  },
  {
   "cell_type": "code",
   "execution_count": 134,
   "metadata": {},
   "outputs": [
    {
     "name": "stdout",
     "output_type": "stream",
     "text": [
      "True\n",
      "BMW\n",
      "2014\n",
      "5S\n",
      "Car Started\n",
      "Car stated by pressing the Button\n"
     ]
    }
   ],
   "source": [
    "fvSrs=Fiveseries(True,'BMW',2014,'5S')\n",
    "print(fvSrs.ParkingAssitEnabled)\n",
    "print(fvSrs.make)\n",
    "print(fvSrs.year)\n",
    "print(fvSrs.model)\n",
    "\n",
    "fvSrs.start() # Method in Parent Class is overridden by Child Class"
   ]
  },
  {
   "cell_type": "code",
   "execution_count": 135,
   "metadata": {},
   "outputs": [],
   "source": [
    "#Polimorphism"
   ]
  },
  {
   "cell_type": "code",
   "execution_count": 136,
   "metadata": {},
   "outputs": [],
   "source": [
    "#Duck Typing\n"
   ]
  },
  {
   "cell_type": "code",
   "execution_count": 137,
   "metadata": {},
   "outputs": [],
   "source": [
    "class Duck:\n",
    "    def talk(self):\n",
    "        print('Duck talk')\n",
    "class Human:\n",
    "    def talk(self):\n",
    "        print('Human Talk')\n",
    "        \n",
    "def objec(obj):\n",
    "    obj.talk()"
   ]
  },
  {
   "cell_type": "code",
   "execution_count": 138,
   "metadata": {},
   "outputs": [],
   "source": [
    "h=Human()\n",
    "d=Duck()"
   ]
  },
  {
   "cell_type": "code",
   "execution_count": 139,
   "metadata": {},
   "outputs": [
    {
     "name": "stdout",
     "output_type": "stream",
     "text": [
      "Duck talk\n",
      "Human Talk\n"
     ]
    }
   ],
   "source": [
    "objec(d)\n",
    "objec(h)"
   ]
  },
  {
   "cell_type": "code",
   "execution_count": 140,
   "metadata": {},
   "outputs": [],
   "source": [
    "#Dependency Injection\n",
    "\n",
    "    #for Understand Duck typing you need to know dependency Inection"
   ]
  },
  {
   "cell_type": "code",
   "execution_count": 146,
   "metadata": {},
   "outputs": [
    {
     "name": "stdout",
     "output_type": "stream",
     "text": [
      "Starting Airbus Engine\n"
     ]
    }
   ],
   "source": [
    "class Flight:\n",
    "    def __init__(self,engine):\n",
    "        self.engine=engine\n",
    "    def startEngine(self):\n",
    "        self.engine.start()\n",
    "        \n",
    "        \n",
    "class AirbusEngine:\n",
    "    def start(self):\n",
    "        print(\"Starting Airbus Engine\")\n",
    "        \n",
    "        \n",
    "class BoingEnigne:\n",
    "    def start(self):\n",
    "        print(\"Starting Boing Engine\")\n",
    "        \n",
    "ae=AirbusEngine()\n",
    "f=Flight(ae)\n",
    "f.startEngine()"
   ]
  },
  {
   "cell_type": "code",
   "execution_count": 147,
   "metadata": {},
   "outputs": [
    {
     "name": "stdout",
     "output_type": "stream",
     "text": [
      "Starting Boing Engine\n"
     ]
    }
   ],
   "source": [
    "be=BoingEnigne()\n",
    "f=Flight(be)\n",
    "f.startEngine()"
   ]
  },
  {
   "cell_type": "code",
   "execution_count": 148,
   "metadata": {},
   "outputs": [],
   "source": [
    "#Operator OverLoading"
   ]
  },
  {
   "cell_type": "code",
   "execution_count": 149,
   "metadata": {},
   "outputs": [
    {
     "data": {
      "text/plain": [
       "30"
      ]
     },
     "execution_count": 149,
     "metadata": {},
     "output_type": "execute_result"
    }
   ],
   "source": [
    "x=10\n",
    "y=20\n",
    "x+y  # sum"
   ]
  },
  {
   "cell_type": "code",
   "execution_count": 150,
   "metadata": {},
   "outputs": [],
   "source": [
    "s=\"hello\"\n",
    "q=\" How are you\"  # Concatenate"
   ]
  },
  {
   "cell_type": "code",
   "execution_count": 151,
   "metadata": {},
   "outputs": [
    {
     "data": {
      "text/plain": [
       "'hello How are you'"
      ]
     },
     "execution_count": 151,
     "metadata": {},
     "output_type": "execute_result"
    }
   ],
   "source": [
    "s+q"
   ]
  },
  {
   "cell_type": "code",
   "execution_count": 152,
   "metadata": {},
   "outputs": [
    {
     "data": {
      "text/plain": [
       "[2, 3, 4, 5, 6, 7]"
      ]
     },
     "execution_count": 152,
     "metadata": {},
     "output_type": "execute_result"
    }
   ],
   "source": [
    "l1=[2,3,4]\n",
    "l2=[5,6,7]\n",
    "l1+l2       # Append"
   ]
  },
  {
   "cell_type": "code",
   "execution_count": 153,
   "metadata": {},
   "outputs": [],
   "source": [
    " #Abstract Class\n",
    "    "
   ]
  },
  {
   "cell_type": "code",
   "execution_count": 156,
   "metadata": {},
   "outputs": [],
   "source": [
    "from abc import abstractmethod,ABC #(Import decorator and ABC from abstract class(abc))\n",
    "class BMW(ABC): #(Abstract class should inherit from ABC)\n",
    "    def __init__(self,make,year,model):\n",
    "        self.make=make\n",
    "        self.model=model\n",
    "        self.year=year\n",
    "        \n",
    "    def start(self):\n",
    "        print(\"Car Started\")\n",
    "        \n",
    "    @abstractmethod\n",
    "    def drive(self):\n",
    "        pass #Simply says we are not implementing"
   ]
  },
  {
   "cell_type": "code",
   "execution_count": 164,
   "metadata": {},
   "outputs": [],
   "source": [
    "class Fiveseries(BMW):\n",
    "    def __init__(self,ParkingAssitEnabled,make,year,model):\n",
    "        #BMW.__init__(self,make,year,model)\n",
    "        super().__init__(make,year,model)\n",
    "        self.ParkingAssitEnabled=ParkingAssitEnabled\n",
    "        \n",
    "    def start(self):\n",
    "        super().start() ##Adding Functionality On top of the existing functionality\n",
    "        print(\"Car stated by pressing the Button\")\n",
    "    \n",
    "    def drive(self):\n",
    "        print(\" ThreeSeries is driven\")  #Abstract Method\n",
    "    "
   ]
  },
  {
   "cell_type": "code",
   "execution_count": 165,
   "metadata": {},
   "outputs": [],
   "source": [
    "fvSrs=Fiveseries(True,'BMW',2014,'5S')"
   ]
  },
  {
   "cell_type": "code",
   "execution_count": 166,
   "metadata": {},
   "outputs": [
    {
     "name": "stdout",
     "output_type": "stream",
     "text": [
      " ThreeSeries is driven\n"
     ]
    }
   ],
   "source": [
    "fvSrs.drive()"
   ]
  },
  {
   "cell_type": "code",
   "execution_count": 170,
   "metadata": {},
   "outputs": [],
   "source": [
    "# b=BMW('BMW',2014,'5S')   #Can't instantiate abstract class with abstract methods"
   ]
  },
  {
   "cell_type": "code",
   "execution_count": 167,
   "metadata": {},
   "outputs": [],
   "source": [
    "\n",
    "# interface (An abstract class,where all the methods are abstract)"
   ]
  },
  {
   "cell_type": "code",
   "execution_count": 169,
   "metadata": {},
   "outputs": [],
   "source": [
    "from abc import abstractmethod,ABC #(Import decorator and ABC from abstract class(abc))\n",
    "class BMW(ABC): #(Abstract class should inherit from ABC)\n",
    "    def __init__(self,make,year,model):\n",
    "        self.make=make\n",
    "        self.model=model\n",
    "        self.year=year\n",
    "    @abstractmethod    \n",
    "    def start(self):\n",
    "        pass\n",
    "        \n",
    "    @abstractmethod\n",
    "    def drive(self):\n",
    "        pass #Simply says we are not implementing\n",
    "\n",
    "    @abstractmethod\n",
    "    def stop(self):\n",
    "        pass\n",
    "    \n",
    "    \n",
    "class Fiveseries(BMW):\n",
    "    def __init__(self,ParkingAssitEnabled,make,year,model):\n",
    "        super().__init__(make,year,model)\n",
    "        self.ParkingAssitEnabled=ParkingAssitEnabled\n",
    "        \n",
    "    def start(self):\n",
    "        super().start()\n",
    "        print(\"Car stated by pressing the Button\")\n",
    "    \n",
    "    def drive(self):\n",
    "        print(\" ThreeSeries is driven\")  \n",
    "        \n",
    "    def stop(self):\n",
    "        super().start()\n",
    "        print(\"Car stopped\")"
   ]
  },
  {
   "cell_type": "code",
   "execution_count": 171,
   "metadata": {},
   "outputs": [],
   "source": [
    "fvSrs=Fiveseries(True,'BMW',2014,'5S')"
   ]
  },
  {
   "cell_type": "code",
   "execution_count": 172,
   "metadata": {},
   "outputs": [
    {
     "name": "stdout",
     "output_type": "stream",
     "text": [
      "Car stopped\n"
     ]
    }
   ],
   "source": [
    "fvSrs.stop()"
   ]
  },
  {
   "cell_type": "code",
   "execution_count": 182,
   "metadata": {},
   "outputs": [
    {
     "data": {
      "text/plain": [
       "'Exception is represented by objects of particular class,\\n   Each Exception is a class, Objects of the particular class is created when an exception is raised'"
      ]
     },
     "execution_count": 182,
     "metadata": {},
     "output_type": "execute_result"
    }
   ],
   "source": [
    "#Exceptions (Runtime Error)\n",
    "    \n",
    "'''Exception is represented by objects of particular class,\n",
    "   Each Exception is a class, Objects of the particular class is created when an exception is raised'''\n",
    "\n",
    "    "
   ]
  },
  {
   "cell_type": "code",
   "execution_count": 183,
   "metadata": {},
   "outputs": [],
   "source": [
    "#Handling Exception"
   ]
  },
  {
   "cell_type": "code",
   "execution_count": 1,
   "metadata": {},
   "outputs": [
    {
     "name": "stdout",
     "output_type": "stream",
     "text": [
      "enter two numbers:4 2\n"
     ]
    }
   ],
   "source": [
    "a,b=[int(x) for x in input(\"enter two numbers:\").split()]"
   ]
  },
  {
   "cell_type": "code",
   "execution_count": 2,
   "metadata": {},
   "outputs": [],
   "source": [
    "c=a/b"
   ]
  },
  {
   "cell_type": "code",
   "execution_count": 3,
   "metadata": {},
   "outputs": [
    {
     "data": {
      "text/plain": [
       "2.0"
      ]
     },
     "execution_count": 3,
     "metadata": {},
     "output_type": "execute_result"
    }
   ],
   "source": [
    "c"
   ]
  },
  {
   "cell_type": "code",
   "execution_count": 9,
   "metadata": {},
   "outputs": [
    {
     "data": {
      "text/plain": [
       "'\\na,b=[int(x) for x in input(\"enter two numbers:\").split()]\\nc=a/b\\nc\\n\\n    \\nprint(\"\\n code after exception\") '"
      ]
     },
     "execution_count": 9,
     "metadata": {},
     "output_type": "execute_result"
    }
   ],
   "source": [
    "'''\n",
    "a,b=[int(x) for x in input(\"enter two numbers:\").split()]\n",
    "c=a/b\n",
    "c\n",
    "\n",
    "    \n",
    "print(\"\\n code after exception\") '''"
   ]
  },
  {
   "cell_type": "code",
   "execution_count": 7,
   "metadata": {},
   "outputs": [
    {
     "name": "stdout",
     "output_type": "stream",
     "text": [
      "enter two numbers:4 0\n",
      "can't perform division by zero\n",
      "\n",
      " code after exception\n"
     ]
    }
   ],
   "source": [
    "try:\n",
    "    a,b=[int(x) for x in input(\"enter two numbers:\").split()]\n",
    "    c=a/b\n",
    "    print(c)\n",
    "except:\n",
    "    print(\"can't perform division by zero\")\n",
    "    \n",
    "print(\"\\n code after exception\")"
   ]
  },
  {
   "cell_type": "code",
   "execution_count": 10,
   "metadata": {},
   "outputs": [],
   "source": [
    "#Finally block"
   ]
  },
  {
   "cell_type": "code",
   "execution_count": 14,
   "metadata": {},
   "outputs": [
    {
     "name": "stdout",
     "output_type": "stream",
     "text": [
      "enter two numbers:4 0\n",
      "Division by Zero is not allowed\n",
      "File Closed\n"
     ]
    }
   ],
   "source": [
    "try:\n",
    "    f=open('myfile.txt','w')\n",
    "    a,b=[int(x) for x in input(\"enter two numbers:\").split()]\n",
    "    c=a/b\n",
    "    f.write(\"writing {} to file\".format(c))\n",
    "    #f.close()\n",
    "except ZeroDivisionError:\n",
    "    print(\"Division by Zero is not allowed\")\n",
    "finally:\n",
    "    f.close()\n",
    "    print(\"File Closed\")\n",
    "    "
   ]
  },
  {
   "cell_type": "code",
   "execution_count": 15,
   "metadata": {},
   "outputs": [
    {
     "name": "stdout",
     "output_type": "stream",
     "text": [
      "enter two numbers:4 2\n",
      "File Closed\n"
     ]
    }
   ],
   "source": [
    "try:\n",
    "    f=open('myfile.txt','w')\n",
    "    a,b=[int(x) for x in input(\"enter two numbers:\").split()]\n",
    "    c=a/b\n",
    "    f.write(\"writing {} to file\".format(c))\n",
    "    #f.close()\n",
    "except ZeroDivisionError:\n",
    "    print(\"Division by Zero is not allowed\")\n",
    "finally:\n",
    "    f.close()\n",
    "    print(\"File Closed\")\n",
    "    "
   ]
  },
  {
   "cell_type": "code",
   "execution_count": 16,
   "metadata": {},
   "outputs": [],
   "source": [
    "#Else Block"
   ]
  },
  {
   "cell_type": "code",
   "execution_count": 17,
   "metadata": {},
   "outputs": [
    {
     "name": "stdout",
     "output_type": "stream",
     "text": [
      "enter two numbers:4 2\n",
      "You have entered non zero number\n",
      "File Closed\n"
     ]
    }
   ],
   "source": [
    "try:\n",
    "    f=open('myfile.txt','w')\n",
    "    a,b=[int(x) for x in input(\"enter two numbers:\").split()]\n",
    "    c=a/b\n",
    "    f.write(\"writing {} to file\".format(c))\n",
    "    #f.close()\n",
    "except ZeroDivisionError:\n",
    "    print(\"Division by Zero is not allowed\")\n",
    "else:\n",
    "    print(\"You have entered non zero number\")\n",
    "    \n",
    "finally:\n",
    "    f.close()\n",
    "    print(\"File Closed\")\n",
    "    "
   ]
  },
  {
   "cell_type": "code",
   "execution_count": null,
   "metadata": {},
   "outputs": [],
   "source": []
  },
  {
   "cell_type": "code",
   "execution_count": 18,
   "metadata": {},
   "outputs": [],
   "source": [
    "#Logging"
   ]
  },
  {
   "cell_type": "code",
   "execution_count": 20,
   "metadata": {},
   "outputs": [],
   "source": [
    "import logging"
   ]
  },
  {
   "cell_type": "code",
   "execution_count": 25,
   "metadata": {},
   "outputs": [
    {
     "name": "stderr",
     "output_type": "stream",
     "text": [
      "CRITICAL:root:Error\n",
      "ERROR:root:Error\n",
      "C:\\ProgramData\\Anaconda3\\lib\\site-packages\\ipykernel_launcher.py:3: DeprecationWarning: The 'warn' function is deprecated, use 'warning' instead\n",
      "  This is separate from the ipykernel package so we can avoid doing imports until\n",
      "WARNING:root:Error\n"
     ]
    }
   ],
   "source": [
    "logging.critical('Error')\n",
    "logging.error('Error')\n",
    "logging.warn('Error')\n",
    "logging.info('Error')\n",
    "logging.debug('Error')\n",
    "\n",
    "\n",
    "\n"
   ]
  },
  {
   "cell_type": "code",
   "execution_count": 27,
   "metadata": {},
   "outputs": [
    {
     "data": {
      "text/plain": [
       "' By default Logging  will happen in console not in file\\n\\n'"
      ]
     },
     "execution_count": 27,
     "metadata": {},
     "output_type": "execute_result"
    }
   ],
   "source": [
    "''' By default Logging  will happen in console not in file\n",
    "\n",
    "'''"
   ]
  },
  {
   "cell_type": "code",
   "execution_count": 28,
   "metadata": {},
   "outputs": [
    {
     "name": "stderr",
     "output_type": "stream",
     "text": [
      "CRITICAL:root:Error\n",
      "ERROR:root:Error\n",
      "C:\\ProgramData\\Anaconda3\\lib\\site-packages\\ipykernel_launcher.py:5: DeprecationWarning: The 'warn' function is deprecated, use 'warning' instead\n",
      "  \"\"\"\n",
      "WARNING:root:Error\n"
     ]
    }
   ],
   "source": [
    "logging.basicConfig(filename='mylog.log',level=logging.ERROR) ## see only Error and above it (Critical, Error)\n",
    "\n",
    "logging.critical('Error')\n",
    "logging.error('Error')\n",
    "logging.warn('Error')\n",
    "logging.info('Error')\n",
    "logging.debug('Error')\n"
   ]
  },
  {
   "cell_type": "code",
   "execution_count": 30,
   "metadata": {},
   "outputs": [
    {
     "name": "stderr",
     "output_type": "stream",
     "text": [
      "CRITICAL:root:Error\n",
      "ERROR:root:Error\n",
      "C:\\ProgramData\\Anaconda3\\lib\\site-packages\\ipykernel_launcher.py:5: DeprecationWarning: The 'warn' function is deprecated, use 'warning' instead\n",
      "  \"\"\"\n",
      "WARNING:root:Error\n"
     ]
    }
   ],
   "source": [
    "logging.basicConfig(filename='mylog.log',level=logging.DEBUG) ## see all \n",
    "\n",
    "logging.critical('Error')\n",
    "logging.error('Error')\n",
    "logging.warn('Error')\n",
    "logging.info('Error')\n",
    "logging.debug('Error')\n"
   ]
  },
  {
   "cell_type": "code",
   "execution_count": null,
   "metadata": {},
   "outputs": [],
   "source": []
  },
  {
   "cell_type": "code",
   "execution_count": 31,
   "metadata": {},
   "outputs": [],
   "source": [
    "# Logging Implimentation"
   ]
  },
  {
   "cell_type": "code",
   "execution_count": 32,
   "metadata": {},
   "outputs": [
    {
     "name": "stdout",
     "output_type": "stream",
     "text": [
      "enter two numbers:4 2\n",
      "You have entered non zero number\n",
      "File Closed\n"
     ]
    }
   ],
   "source": [
    "logging.basicConfig(filename='logdem.log',level=logging.DEBUG) ## see all \n",
    "\n",
    "try:\n",
    "    f=open('myfile.txt','w')\n",
    "    a,b=[int(x) for x in input(\"enter two numbers:\").split()]\n",
    "    c=a/b\n",
    "    f.write(\"writing {} to file\".format(c))\n",
    "    logging.info('Performing division Operation')\n",
    "    #f.close()\n",
    "except ZeroDivisionError:\n",
    "    print(\"Division by Zero is not allowed\")\n",
    "    logging.error('Division Error')\n",
    "else:\n",
    "    print(\"You have entered non zero number\")\n",
    "    \n",
    "finally:\n",
    "    f.close()\n",
    "    print(\"File Closed\")"
   ]
  },
  {
   "cell_type": "code",
   "execution_count": 37,
   "metadata": {},
   "outputs": [],
   "source": [
    "#Assertions"
   ]
  },
  {
   "cell_type": "code",
   "execution_count": 38,
   "metadata": {},
   "outputs": [
    {
     "data": {
      "text/plain": [
       "'\\nnum=int(input(\"Enter a even number:\"))\\nassert num%2==0,\"You have entered a invalid input\"\\n'"
      ]
     },
     "execution_count": 38,
     "metadata": {},
     "output_type": "execute_result"
    }
   ],
   "source": [
    "'''\n",
    "num=int(input(\"Enter a even number:\"))\n",
    "assert num%2==0,\"You have entered a invalid input\"\n",
    "'''"
   ]
  },
  {
   "cell_type": "code",
   "execution_count": 35,
   "metadata": {},
   "outputs": [
    {
     "name": "stdout",
     "output_type": "stream",
     "text": [
      "Enter a even number:7\n",
      "You have entered a invalid input\n",
      "After assertions\n"
     ]
    }
   ],
   "source": [
    "try:\n",
    "    num=int(input(\"Enter a even number:\"))\n",
    "    assert num%2==0,\"You have entered a invalid input\"\n",
    "except AssertionError as obj:\n",
    "    print(obj)\n",
    "print('After assertions')"
   ]
  },
  {
   "cell_type": "code",
   "execution_count": 39,
   "metadata": {},
   "outputs": [],
   "source": [
    "#Date Time"
   ]
  },
  {
   "cell_type": "code",
   "execution_count": 40,
   "metadata": {},
   "outputs": [],
   "source": [
    "import time"
   ]
  },
  {
   "cell_type": "code",
   "execution_count": 43,
   "metadata": {},
   "outputs": [
    {
     "name": "stdout",
     "output_type": "stream",
     "text": [
      "1591364805.493535\n"
     ]
    }
   ],
   "source": [
    "epochseconds=time.time()\n",
    "print(epochseconds)"
   ]
  },
  {
   "cell_type": "code",
   "execution_count": 49,
   "metadata": {},
   "outputs": [
    {
     "name": "stdout",
     "output_type": "stream",
     "text": [
      "Fri Jun  5 19:17:48 2020\n"
     ]
    }
   ],
   "source": [
    "t=time.ctime()\n",
    "print(t)"
   ]
  },
  {
   "cell_type": "code",
   "execution_count": null,
   "metadata": {},
   "outputs": [],
   "source": []
  },
  {
   "cell_type": "code",
   "execution_count": 2,
   "metadata": {},
   "outputs": [],
   "source": [
    "import datetime"
   ]
  },
  {
   "cell_type": "code",
   "execution_count": 51,
   "metadata": {},
   "outputs": [
    {
     "data": {
      "text/plain": [
       "datetime.datetime(2020, 6, 5, 19, 18, 26, 486262)"
      ]
     },
     "execution_count": 51,
     "metadata": {},
     "output_type": "execute_result"
    }
   ],
   "source": [
    "datetime.datetime.today()"
   ]
  },
  {
   "cell_type": "code",
   "execution_count": 53,
   "metadata": {},
   "outputs": [
    {
     "data": {
      "text/plain": [
       "5"
      ]
     },
     "execution_count": 53,
     "metadata": {},
     "output_type": "execute_result"
    }
   ],
   "source": [
    "datetime.datetime.today().day"
   ]
  },
  {
   "cell_type": "code",
   "execution_count": 54,
   "metadata": {},
   "outputs": [
    {
     "data": {
      "text/plain": [
       "6"
      ]
     },
     "execution_count": 54,
     "metadata": {},
     "output_type": "execute_result"
    }
   ],
   "source": [
    "datetime.datetime.today().month"
   ]
  },
  {
   "cell_type": "code",
   "execution_count": 55,
   "metadata": {},
   "outputs": [
    {
     "data": {
      "text/plain": [
       "2020"
      ]
     },
     "execution_count": 55,
     "metadata": {},
     "output_type": "execute_result"
    }
   ],
   "source": [
    "datetime.datetime.today().year"
   ]
  },
  {
   "cell_type": "code",
   "execution_count": 56,
   "metadata": {},
   "outputs": [
    {
     "data": {
      "text/plain": [
       "19"
      ]
     },
     "execution_count": 56,
     "metadata": {},
     "output_type": "execute_result"
    }
   ],
   "source": [
    "datetime.datetime.today().hour"
   ]
  },
  {
   "cell_type": "code",
   "execution_count": 57,
   "metadata": {},
   "outputs": [
    {
     "data": {
      "text/plain": [
       "36"
      ]
     },
     "execution_count": 57,
     "metadata": {},
     "output_type": "execute_result"
    }
   ],
   "source": [
    "datetime.datetime.today().second"
   ]
  },
  {
   "cell_type": "code",
   "execution_count": 3,
   "metadata": {},
   "outputs": [
    {
     "data": {
      "text/plain": [
       "20"
      ]
     },
     "execution_count": 3,
     "metadata": {},
     "output_type": "execute_result"
    }
   ],
   "source": [
    "datetime.datetime.today().minute"
   ]
  },
  {
   "cell_type": "code",
   "execution_count": 4,
   "metadata": {},
   "outputs": [],
   "source": [
    "from datetime import *"
   ]
  },
  {
   "cell_type": "code",
   "execution_count": 5,
   "metadata": {},
   "outputs": [],
   "source": [
    "d=date(2020,7,21)"
   ]
  },
  {
   "cell_type": "code",
   "execution_count": 6,
   "metadata": {},
   "outputs": [],
   "source": [
    "t=time(12,45)"
   ]
  },
  {
   "cell_type": "code",
   "execution_count": 7,
   "metadata": {},
   "outputs": [
    {
     "data": {
      "text/plain": [
       "datetime.date(2020, 7, 21)"
      ]
     },
     "execution_count": 7,
     "metadata": {},
     "output_type": "execute_result"
    }
   ],
   "source": [
    "d"
   ]
  },
  {
   "cell_type": "code",
   "execution_count": 8,
   "metadata": {},
   "outputs": [
    {
     "data": {
      "text/plain": [
       "datetime.time(12, 45)"
      ]
     },
     "execution_count": 8,
     "metadata": {},
     "output_type": "execute_result"
    }
   ],
   "source": [
    "t"
   ]
  },
  {
   "cell_type": "code",
   "execution_count": 10,
   "metadata": {},
   "outputs": [],
   "source": [
    "dt=datetime.combine(d,t)"
   ]
  },
  {
   "cell_type": "code",
   "execution_count": 12,
   "metadata": {},
   "outputs": [
    {
     "name": "stdout",
     "output_type": "stream",
     "text": [
      "2020-07-21 12:45:00\n"
     ]
    }
   ],
   "source": [
    "print(dt)"
   ]
  },
  {
   "cell_type": "code",
   "execution_count": 13,
   "metadata": {},
   "outputs": [],
   "source": [
    "ldates=[]"
   ]
  },
  {
   "cell_type": "code",
   "execution_count": 16,
   "metadata": {},
   "outputs": [],
   "source": [
    "d1=date(2018,8,12)\n",
    "d2=date(2017,8,12)\n",
    "d3=date(2019,8,12)\n"
   ]
  },
  {
   "cell_type": "code",
   "execution_count": 17,
   "metadata": {},
   "outputs": [],
   "source": [
    "ldates.append(d1)\n",
    "ldates.append(d2)\n",
    "ldates.append(d3)"
   ]
  },
  {
   "cell_type": "code",
   "execution_count": 18,
   "metadata": {},
   "outputs": [],
   "source": [
    "ldates.sort()"
   ]
  },
  {
   "cell_type": "code",
   "execution_count": 19,
   "metadata": {},
   "outputs": [
    {
     "name": "stdout",
     "output_type": "stream",
     "text": [
      "2017-08-12\n",
      "2018-08-12\n",
      "2019-08-12\n"
     ]
    }
   ],
   "source": [
    "for i in ldates:\n",
    "    print(i)"
   ]
  },
  {
   "cell_type": "code",
   "execution_count": 22,
   "metadata": {},
   "outputs": [],
   "source": [
    "#Sleep\n",
    "import time"
   ]
  },
  {
   "cell_type": "code",
   "execution_count": 23,
   "metadata": {},
   "outputs": [
    {
     "name": "stdout",
     "output_type": "stream",
     "text": [
      "2017-08-12\n",
      "2018-08-12\n",
      "2019-08-12\n"
     ]
    }
   ],
   "source": [
    "time.sleep(3) # wait for 3 seconds\n",
    "for i in ldates:\n",
    "    print(i)"
   ]
  },
  {
   "cell_type": "code",
   "execution_count": 30,
   "metadata": {},
   "outputs": [
    {
     "name": "stdout",
     "output_type": "stream",
     "text": [
      "2017-08-12\n",
      "2018-08-12\n",
      "2019-08-12\n",
      "it took 3.011551499999996 to complete\n"
     ]
    }
   ],
   "source": [
    "start_time=time.perf_counter()\n",
    "time.sleep(3) # wait for 3 seconds\n",
    "for i in ldates:\n",
    "    print(i)\n",
    "end_time=time.perf_counter()\n",
    "\n",
    "print(\"it took {} to complete\".format(end_time-start_time))"
   ]
  },
  {
   "cell_type": "code",
   "execution_count": 31,
   "metadata": {},
   "outputs": [],
   "source": [
    "#Threading"
   ]
  },
  {
   "cell_type": "code",
   "execution_count": 33,
   "metadata": {},
   "outputs": [],
   "source": [
    "import threading"
   ]
  },
  {
   "cell_type": "code",
   "execution_count": 34,
   "metadata": {},
   "outputs": [
    {
     "data": {
      "text/plain": [
       "'MainThread'"
      ]
     },
     "execution_count": 34,
     "metadata": {},
     "output_type": "execute_result"
    }
   ],
   "source": [
    "threading.current_thread().getName()"
   ]
  },
  {
   "cell_type": "code",
   "execution_count": 36,
   "metadata": {},
   "outputs": [
    {
     "name": "stdout",
     "output_type": "stream",
     "text": [
      "main thread\n"
     ]
    }
   ],
   "source": [
    "if threading.current_thread()==threading.main_thread():\n",
    "    print(\"main thread\")\n",
    "else:\n",
    "    print(\"Not main\")"
   ]
  },
  {
   "cell_type": "code",
   "execution_count": 37,
   "metadata": {},
   "outputs": [],
   "source": [
    "# thread using functions"
   ]
  },
  {
   "cell_type": "code",
   "execution_count": 38,
   "metadata": {},
   "outputs": [],
   "source": [
    "from threading import Thread"
   ]
  },
  {
   "cell_type": "code",
   "execution_count": 39,
   "metadata": {},
   "outputs": [],
   "source": [
    "def displayNumbers():\n",
    "    i=0\n",
    "    while i<=10:\n",
    "        print(i)\n",
    "        i+=1"
   ]
  },
  {
   "cell_type": "code",
   "execution_count": 40,
   "metadata": {},
   "outputs": [],
   "source": [
    "t=Thread(target=displayNumbers)"
   ]
  },
  {
   "cell_type": "code",
   "execution_count": 41,
   "metadata": {},
   "outputs": [
    {
     "name": "stdout",
     "output_type": "stream",
     "text": [
      "0\n",
      "1\n",
      "2\n",
      "3\n",
      "4\n",
      "5\n",
      "6\n",
      "7\n",
      "8\n",
      "9\n",
      "10\n"
     ]
    }
   ],
   "source": [
    "t.start()"
   ]
  },
  {
   "cell_type": "code",
   "execution_count": 42,
   "metadata": {},
   "outputs": [],
   "source": [
    "# printing Thread_name"
   ]
  },
  {
   "cell_type": "code",
   "execution_count": 47,
   "metadata": {},
   "outputs": [
    {
     "name": "stdout",
     "output_type": "stream",
     "text": [
      "MainThread\n",
      "Thread-10\n",
      "0\n",
      "1\n",
      "2\n",
      "3\n",
      "4\n",
      "5\n",
      "6\n",
      "7\n",
      "8\n",
      "9\n",
      "10\n"
     ]
    }
   ],
   "source": [
    "def displayNumbers():\n",
    "    i=0\n",
    "    print(threading.current_thread().getName())\n",
    "    while i<=10:\n",
    "        print(i)\n",
    "        i+=1\n",
    "print(threading.current_thread().getName())        \n",
    "t=Thread(target=displayNumbers)\n",
    "t.start()"
   ]
  },
  {
   "cell_type": "code",
   "execution_count": 48,
   "metadata": {},
   "outputs": [],
   "source": [
    "# from extending Thread"
   ]
  },
  {
   "cell_type": "code",
   "execution_count": 52,
   "metadata": {},
   "outputs": [
    {
     "name": "stdout",
     "output_type": "stream",
     "text": [
      "0\n",
      "1\n",
      "2\n",
      "3\n",
      "4\n",
      "5\n",
      "6\n",
      "7\n",
      "8\n",
      "9\n",
      "10\n"
     ]
    }
   ],
   "source": [
    "class MyThread(Thread):\n",
    "    def run(self):\n",
    "        i=0\n",
    "        while i<=10:\n",
    "            print(i)\n",
    "            i+=1\n",
    "t=MyThread()\n",
    "t.start()"
   ]
  },
  {
   "cell_type": "code",
   "execution_count": 53,
   "metadata": {},
   "outputs": [],
   "source": [
    "# Hybrid Method to create Thread"
   ]
  },
  {
   "cell_type": "code",
   "execution_count": 54,
   "metadata": {},
   "outputs": [],
   "source": [
    "from threading import *"
   ]
  },
  {
   "cell_type": "code",
   "execution_count": 57,
   "metadata": {},
   "outputs": [
    {
     "name": "stdout",
     "output_type": "stream",
     "text": [
      "Thread-14\n",
      "0\n",
      "1\n",
      "2\n",
      "3\n",
      "4\n",
      "5\n",
      "6\n",
      "7\n",
      "8\n",
      "9\n",
      "10\n"
     ]
    }
   ],
   "source": [
    "class MyThread:\n",
    "    def displayNumbers(self):\n",
    "        i=0\n",
    "        print(threading.current_thread().getName())\n",
    "        while i<=10:\n",
    "            print(i)\n",
    "            i+=1\n",
    "            \n",
    "obj=MyThread()\n",
    "t=Thread(target=obj.displayNumbers)\n",
    "t.start()"
   ]
  },
  {
   "cell_type": "code",
   "execution_count": 58,
   "metadata": {},
   "outputs": [],
   "source": [
    "# Multithreading"
   ]
  },
  {
   "cell_type": "code",
   "execution_count": 66,
   "metadata": {},
   "outputs": [
    {
     "name": "stdout",
     "output_type": "stream",
     "text": [
      "Thread-36\n",
      "0\n",
      "1\n",
      "2\n",
      "3\n",
      "4\n",
      "5\n",
      "6\n",
      "7\n",
      "8\n",
      "9\n",
      "10\n",
      "Thread-37\n",
      "0\n",
      "1\n",
      "2\n",
      "3\n",
      "4\n",
      "5\n",
      "6\n",
      "7\n",
      "8\n",
      "9\n",
      "10\n",
      "Thread-38\n",
      "0\n",
      "1\n",
      "2\n",
      "3\n",
      "4\n",
      "5\n",
      "6\n",
      "7\n",
      "8\n",
      "9\n",
      "10\n"
     ]
    }
   ],
   "source": [
    "from threading import *\n",
    "\n",
    "class MyThread:\n",
    "    def displayNumbers(self):\n",
    "        i=0\n",
    "        print(threading.current_thread().getName())\n",
    "        while i<=10:\n",
    "            print(i)\n",
    "            i+=1\n",
    "            \n",
    "obj=MyThread()\n",
    "t=Thread(target=obj.displayNumbers)\n",
    "t.start()\n",
    "\n",
    "t2=Thread(target=obj.displayNumbers)\n",
    "t2.start()\n",
    "\n",
    "t3=Thread(target=obj.displayNumbers)\n",
    "t3.start()"
   ]
  },
  {
   "cell_type": "code",
   "execution_count": 69,
   "metadata": {},
   "outputs": [
    {
     "name": "stdout",
     "output_type": "stream",
     "text": [
      "Thread-45\n",
      "Thread-46\n",
      "Thread-47\n",
      "0\n",
      "1\n",
      "2\n",
      "3\n",
      "4\n",
      "5\n",
      "6\n",
      "7\n",
      "8\n",
      "9\n",
      "10\n",
      "00\n",
      "1\n",
      "2\n",
      "3\n",
      "4\n",
      "5\n",
      "6\n",
      "7\n",
      "8\n",
      "9\n",
      "10\n",
      "\n",
      "1\n",
      "2\n",
      "3\n",
      "4\n",
      "5\n",
      "6\n",
      "7\n",
      "8\n",
      "9\n",
      "10\n"
     ]
    }
   ],
   "source": [
    "from threading import *\n",
    "import time\n",
    "class MyThread:\n",
    "    def displayNumbers(self):\n",
    "        i=0\n",
    "        print(threading.current_thread().getName())\n",
    "        time.sleep(2)\n",
    "        while i<=10:\n",
    "            print(i)\n",
    "            i+=1\n",
    "            \n",
    "obj=MyThread()\n",
    "t=Thread(target=obj.displayNumbers)\n",
    "t.start()\n",
    "\n",
    "t2=Thread(target=obj.displayNumbers)\n",
    "t2.start()\n",
    "\n",
    "t3=Thread(target=obj.displayNumbers)\n",
    "t3.start()"
   ]
  },
  {
   "cell_type": "code",
   "execution_count": 70,
   "metadata": {},
   "outputs": [],
   "source": [
    "# Threading Use case"
   ]
  },
  {
   "cell_type": "code",
   "execution_count": 75,
   "metadata": {},
   "outputs": [
    {
     "name": "stdout",
     "output_type": "stream",
     "text": [
      "confirming a seat\n",
      "Processing Ticket\n",
      "Printing Ticket\n",
      "confirming a seat\n",
      "Processing Ticket\n",
      "Printing Ticket\n",
      "confirming a seat\n",
      "Processing Ticket\n",
      "Printing Ticket\n"
     ]
    }
   ],
   "source": [
    "from threading import *\n",
    "\n",
    "class BookMyBus:\n",
    "    def buy(self):\n",
    "        print(\"confirming a seat\")\n",
    "        print('Processing Ticket')\n",
    "        print(\"Printing Ticket\")\n",
    "        \n",
    "obj=BookMyBus()\n",
    "t1=Thread(target=obj.buy)\n",
    "t1.start()\n",
    "\n",
    "t2=Thread(target=obj.buy)\n",
    "t2.start()\n",
    "\n",
    "t3=Thread(target=obj.buy)\n",
    "t3.start()"
   ]
  },
  {
   "cell_type": "code",
   "execution_count": 79,
   "metadata": {},
   "outputs": [
    {
     "data": {
      "text/plain": [
       "'\\nWhen multiple threads are accessing the same resource it is very important that they dont corrupt\\neach other resource or object\\n'"
      ]
     },
     "execution_count": 79,
     "metadata": {},
     "output_type": "execute_result"
    }
   ],
   "source": [
    "#Thread Synchronization\n",
    "\n",
    "'''\n",
    "When multiple threads are accessing the same resource it is very important that they dont corrupt\n",
    "each other resource or object\n",
    "'''"
   ]
  },
  {
   "cell_type": "code",
   "execution_count": 84,
   "metadata": {},
   "outputs": [
    {
     "name": "stdout",
     "output_type": "stream",
     "text": [
      "Total seats available : 10\n",
      "confirming a seat\n",
      "Processing Ticket\n",
      "Printing Ticket\n",
      "Total seats available : 7\n",
      "confirming a seat\n",
      "Processing Ticket\n",
      "Printing Ticket\n",
      "Total seats available : 3\n",
      "No seats available\n"
     ]
    }
   ],
   "source": [
    "from threading import *\n",
    "\n",
    "\n",
    "class BookMyBus:\n",
    "    \n",
    "    def __init__(self,avilableSeats):\n",
    "        self.avilableSeats=avilableSeats\n",
    "    \n",
    "    def buy(self,seatsRequested):\n",
    "        print(\"Total seats available :\",self.avilableSeats)\n",
    "        if(seatsRequested<=self.avilableSeats):\n",
    "            print(\"confirming a seat\")\n",
    "            print('Processing Ticket')\n",
    "            print(\"Printing Ticket\")\n",
    "            self.avilableSeats-=seatsRequested\n",
    "        else:\n",
    "            print(\"No seats available\")\n",
    "            \n",
    "obj=BookMyBus(10)\n",
    "t1=Thread(target=obj.buy,args=(3,))\n",
    "t1.start()\n",
    "\n",
    "t2=Thread(target=obj.buy,args=(4,))\n",
    "t2.start()\n",
    "\n",
    "t3=Thread(target=obj.buy,args=(4,))\n",
    "t3.start()"
   ]
  },
  {
   "cell_type": "code",
   "execution_count": 85,
   "metadata": {},
   "outputs": [],
   "source": [
    "#Thread Synchronization"
   ]
  },
  {
   "cell_type": "code",
   "execution_count": 89,
   "metadata": {},
   "outputs": [
    {
     "name": "stdout",
     "output_type": "stream",
     "text": [
      "Total seats available : 10\n",
      "confirming a seat\n",
      "Processing Ticket\n",
      "Printing Ticket\n",
      "Total seats available : 7\n",
      "confirming a seat\n",
      "Processing Ticket\n",
      "Printing Ticket\n",
      "Total seats available : 3\n",
      "confirming a seat\n",
      "Processing Ticket\n",
      "Printing Ticket\n"
     ]
    }
   ],
   "source": [
    "from threading import *\n",
    "\n",
    "\n",
    "class BookMyBus:\n",
    "    \n",
    "    def __init__(self,avilableSeats):\n",
    "        self.avilableSeats=avilableSeats\n",
    "        self.l=Lock()\n",
    "    \n",
    "    def buy(self,seatsRequested):\n",
    "        self.l.acquire()\n",
    "        print(\"Total seats available :\",self.avilableSeats)\n",
    "        if(seatsRequested<=self.avilableSeats):\n",
    "            print(\"confirming a seat\")\n",
    "            print('Processing Ticket')\n",
    "            print(\"Printing Ticket\")\n",
    "            self.avilableSeats-=seatsRequested\n",
    "        else:\n",
    "            print(\"No seats available\")\n",
    "        self.l.release()\n",
    "            \n",
    "obj=BookMyBus(10)\n",
    "t1=Thread(target=obj.buy,args=(3,))\n",
    "t1.start()\n",
    "\n",
    "t2=Thread(target=obj.buy,args=(4,))\n",
    "t2.start()\n",
    "\n",
    "t3=Thread(target=obj.buy,args=(2,))\n",
    "t3.start()"
   ]
  },
  {
   "cell_type": "code",
   "execution_count": 90,
   "metadata": {},
   "outputs": [
    {
     "name": "stdout",
     "output_type": "stream",
     "text": [
      "Total seats available : 10\n",
      "confirming a seat\n",
      "Processing Ticket\n",
      "Printing Ticket\n",
      "Total seats available : 7\n",
      "confirming a seat\n",
      "Processing Ticket\n",
      "Printing Ticket\n",
      "Total seats available : 3\n",
      "confirming a seat\n",
      "Processing Ticket\n",
      "Printing Ticket\n"
     ]
    }
   ],
   "source": [
    "from threading import *\n",
    "\n",
    "\n",
    "class BookMyBus:\n",
    "    \n",
    "    def __init__(self,avilableSeats):\n",
    "        self.avilableSeats=avilableSeats\n",
    "        self.l=Semaphore()\n",
    "    \n",
    "    def buy(self,seatsRequested):\n",
    "        self.l.acquire()\n",
    "        print(\"Total seats available :\",self.avilableSeats)\n",
    "        if(seatsRequested<=self.avilableSeats):\n",
    "            print(\"confirming a seat\")\n",
    "            print('Processing Ticket')\n",
    "            print(\"Printing Ticket\")\n",
    "            self.avilableSeats-=seatsRequested\n",
    "        else:\n",
    "            print(\"No seats available\")\n",
    "        self.l.release()\n",
    "            \n",
    "obj=BookMyBus(10)\n",
    "t1=Thread(target=obj.buy,args=(3,))\n",
    "t1.start()\n",
    "\n",
    "t2=Thread(target=obj.buy,args=(4,))\n",
    "t2.start()\n",
    "\n",
    "t3=Thread(target=obj.buy,args=(2,))\n",
    "t3.start()"
   ]
  },
  {
   "cell_type": "code",
   "execution_count": 91,
   "metadata": {},
   "outputs": [],
   "source": [
    "# Thread Communication"
   ]
  },
  {
   "cell_type": "code",
   "execution_count": 92,
   "metadata": {},
   "outputs": [
    {
     "data": {
      "text/plain": [
       "'\\nEg:-\\n1. way is using a boolean flag, 2.Thread API\\nProducer :- take order from customer\\nconsumer :- process the order\\n\\n'"
      ]
     },
     "execution_count": 92,
     "metadata": {},
     "output_type": "execute_result"
    }
   ],
   "source": [
    "'''\n",
    "Eg:-\n",
    "1. way is using a boolean flag, 2.Thread API\n",
    "Producer :- take order from customer\n",
    "consumer :- process the order\n",
    "\n",
    "'''"
   ]
  },
  {
   "cell_type": "code",
   "execution_count": 93,
   "metadata": {},
   "outputs": [],
   "source": [
    "#Using a Flag"
   ]
  },
  {
   "cell_type": "code",
   "execution_count": 94,
   "metadata": {},
   "outputs": [],
   "source": [
    "from threading import *"
   ]
  },
  {
   "cell_type": "code",
   "execution_count": 99,
   "metadata": {},
   "outputs": [
    {
     "name": "stdout",
     "output_type": "stream",
     "text": [
      "waiting for orders\n",
      "waiting for orders\n",
      "waiting for orders\n",
      "waiting for orders\n",
      "waiting for orders\n",
      "Item added\n",
      "waiting for orders\n",
      "waiting for orders\n",
      "waiting for orders\n",
      "waiting for orders\n",
      "waiting for orders\n",
      "Item added\n",
      "waiting for orders\n",
      "waiting for orders\n",
      "waiting for orders\n",
      "waiting for orders\n",
      "waiting for orders\n",
      "Item added\n",
      "waiting for orders\n",
      "waiting for orders\n",
      "waiting for orders\n",
      "waiting for orders\n",
      "waiting for orders\n",
      "Item added\n",
      "Order Shipped  ['Product1', 'Product2', 'Product3', 'Product4']\n"
     ]
    }
   ],
   "source": [
    "from time import *\n",
    "\n",
    "class Producer:\n",
    "    def __init__(self):\n",
    "        self.product=[]\n",
    "        self.ordersplaced=False\n",
    "        \n",
    "    def produce(self):\n",
    "        for i in range(1,5):\n",
    "            self.product.append(\"Product\"+str(i))\n",
    "            sleep(1)\n",
    "            print('Item added')\n",
    "            \n",
    "        self.ordersplaced=True\n",
    "        \n",
    "class Consumer:\n",
    "    def __init__(self,prod):\n",
    "        self.prod=prod\n",
    "        \n",
    "    def consume(self):\n",
    "        while self.prod.ordersplaced==False:\n",
    "            print(\"waiting for orders\")\n",
    "            sleep(0.2)\n",
    "            \n",
    "        print(\"Order Shipped \",self.prod.product)\n",
    "        \n",
    "\n",
    "p=Producer()\n",
    "c=Consumer(p)\n",
    "\n",
    "t1=Thread(target=p.produce)\n",
    "t2=Thread(target=c.consume)\n",
    "\n",
    "t1.start()\n",
    "t2.start()"
   ]
  },
  {
   "cell_type": "code",
   "execution_count": 100,
   "metadata": {},
   "outputs": [],
   "source": [
    "#Thred API (wait notify notifyall)\n"
   ]
  },
  {
   "cell_type": "code",
   "execution_count": 101,
   "metadata": {},
   "outputs": [
    {
     "data": {
      "text/plain": [
       "'Producer invoke notify() and consumer will invoke wait()'"
      ]
     },
     "execution_count": 101,
     "metadata": {},
     "output_type": "execute_result"
    }
   ],
   "source": [
    "'''Producer invoke notify() and consumer will invoke wait()'''"
   ]
  },
  {
   "cell_type": "code",
   "execution_count": 106,
   "metadata": {},
   "outputs": [
    {
     "name": "stdout",
     "output_type": "stream",
     "text": [
      "Item added\n",
      "Item added\n",
      "Item added\n",
      "Item added\n",
      "Order Shipped  ['Product1', 'Product2', 'Product3', 'Product4']\n"
     ]
    }
   ],
   "source": [
    "from time import *\n",
    "\n",
    "class Producer:\n",
    "    def __init__(self):\n",
    "        self.product=[]\n",
    "        self.c=Condition() # Condition is a class\n",
    "        \n",
    "    def produce(self):\n",
    "        self.c.acquire()  #aquire a lock on condition object\n",
    "        for i in range(1,5):\n",
    "            self.product.append(\"Product\"+str(i))\n",
    "            sleep(1)\n",
    "            print('Item added')\n",
    "        self.c.notify()    \n",
    "        self.c.release()\n",
    "        \n",
    "class Consumer:\n",
    "    def __init__(self,prod):\n",
    "        self.prod=prod\n",
    "        \n",
    "    def consume(self):\n",
    "        self.prod.c.acquire()\n",
    "        self.prod.c.wait(timeout=0)\n",
    "        self.prod.c.release()\n",
    "            \n",
    "        print(\"Order Shipped \",self.prod.product)\n",
    "        \n",
    "\n",
    "p=Producer()\n",
    "c=Consumer(p)\n",
    "\n",
    "t1=Thread(target=p.produce)\n",
    "t2=Thread(target=c.consume)\n",
    "\n",
    "t1.start()\n",
    "t2.start()"
   ]
  },
  {
   "cell_type": "code",
   "execution_count": 107,
   "metadata": {},
   "outputs": [],
   "source": [
    "#Networking"
   ]
  },
  {
   "cell_type": "code",
   "execution_count": 1,
   "metadata": {},
   "outputs": [],
   "source": [
    "#URLLIB "
   ]
  },
  {
   "cell_type": "code",
   "execution_count": 2,
   "metadata": {},
   "outputs": [],
   "source": [
    "import urllib.request"
   ]
  },
  {
   "cell_type": "code",
   "execution_count": 1,
   "metadata": {},
   "outputs": [
    {
     "name": "stdout",
     "output_type": "stream",
     "text": [
      "page not found\n"
     ]
    }
   ],
   "source": [
    "try:\n",
    "    url=urllib.request.urlopen(\"https://www.python.org/\")\n",
    "    content=url.read()\n",
    "    url.close()\n",
    "except :\n",
    "    print(\"page not found\")\n",
    "    exit()\n",
    "else:\n",
    "    f=open('python.html','wb')\n",
    "    f.write(content)\n",
    "    f.close()"
   ]
  },
  {
   "cell_type": "code",
   "execution_count": null,
   "metadata": {},
   "outputs": [],
   "source": [
    "# Download IMg using Urllib"
   ]
  },
  {
   "cell_type": "code",
   "execution_count": 1,
   "metadata": {},
   "outputs": [
    {
     "name": "stdout",
     "output_type": "stream",
     "text": [
      "page not found\n"
     ]
    }
   ],
   "source": [
    "\n",
    "    \n",
    "try:\n",
    "    url=\"https://www.python.org/static/img/python-logo.png\"\n",
    "    urllib.request.urlretrieve(url,\"py.png\")\n",
    "    \n",
    "except :\n",
    "    print(\"page not found\")\n",
    "    exit()\n",
    "    \n"
   ]
  },
  {
   "cell_type": "code",
   "execution_count": null,
   "metadata": {},
   "outputs": [],
   "source": []
  },
  {
   "cell_type": "code",
   "execution_count": 1,
   "metadata": {},
   "outputs": [],
   "source": [
    "#Socket Programming"
   ]
  },
  {
   "cell_type": "code",
   "execution_count": null,
   "metadata": {},
   "outputs": [
    {
     "name": "stdout",
     "output_type": "stream",
     "text": [
      "Server listening to the port\n"
     ]
    }
   ],
   "source": [
    "import socket\n",
    "\n",
    "host='localhost'\n",
    "port=4000\n",
    "\n",
    "\n",
    "s=socket.socket(socket.AF_INET,socket.SOCK_STREAM)\n",
    "s.bind((host,port))\n",
    "print(\"Server listening to the port\")\n",
    "s.listen(1)\n",
    "\n",
    "\n",
    "c,addr=s.accept()\n",
    "\n",
    "print(\"connction from\",str(addr))\n",
    "\n",
    "c.send(b\"Hello How are you\") # b will convert string to binary\n",
    "c.send('bye'.encode())"
   ]
  },
  {
   "cell_type": "code",
   "execution_count": 1,
   "metadata": {},
   "outputs": [],
   "source": [
    "#client"
   ]
  },
  {
   "cell_type": "code",
   "execution_count": null,
   "metadata": {},
   "outputs": [],
   "source": [
    "import socket\n",
    "s=socket.socket()\n",
    "s.connect(('localhost',4000))\n",
    "\n",
    "msg=s.recv(1024)\n",
    "\n",
    "while msg:\n",
    "    \n",
    "    print(\"received :\",msg.decode())\n",
    "    msg=s.recv(1024)\n",
    "    \n",
    "s.close()"
   ]
  },
  {
   "cell_type": "code",
   "execution_count": 32,
   "metadata": {},
   "outputs": [],
   "source": [
    "a=(1,2,3)"
   ]
  },
  {
   "cell_type": "code",
   "execution_count": 33,
   "metadata": {},
   "outputs": [
    {
     "data": {
      "text/plain": [
       "tuple"
      ]
     },
     "execution_count": 33,
     "metadata": {},
     "output_type": "execute_result"
    }
   ],
   "source": [
    "type(a\n",
    "    )"
   ]
  },
  {
   "cell_type": "code",
   "execution_count": 34,
   "metadata": {},
   "outputs": [
    {
     "data": {
      "text/plain": [
       "2"
      ]
     },
     "execution_count": 34,
     "metadata": {},
     "output_type": "execute_result"
    }
   ],
   "source": [
    "a[1]"
   ]
  },
  {
   "cell_type": "code",
   "execution_count": 35,
   "metadata": {},
   "outputs": [
    {
     "ename": "TypeError",
     "evalue": "'tuple' object doesn't support item deletion",
     "output_type": "error",
     "traceback": [
      "\u001b[1;31m---------------------------------------------------------------------------\u001b[0m",
      "\u001b[1;31mTypeError\u001b[0m                                 Traceback (most recent call last)",
      "\u001b[1;32m<ipython-input-35-247e8c903001>\u001b[0m in \u001b[0;36m<module>\u001b[1;34m\u001b[0m\n\u001b[1;32m----> 1\u001b[1;33m \u001b[1;32mdel\u001b[0m\u001b[1;33m(\u001b[0m\u001b[0ma\u001b[0m\u001b[1;33m[\u001b[0m\u001b[1;36m1\u001b[0m\u001b[1;33m]\u001b[0m\u001b[1;33m)\u001b[0m\u001b[1;33m\u001b[0m\u001b[1;33m\u001b[0m\u001b[0m\n\u001b[0m",
      "\u001b[1;31mTypeError\u001b[0m: 'tuple' object doesn't support item deletion"
     ]
    }
   ],
   "source": [
    "del(a[1])"
   ]
  },
  {
   "cell_type": "code",
   "execution_count": 36,
   "metadata": {},
   "outputs": [],
   "source": [
    "del(a)"
   ]
  },
  {
   "cell_type": "code",
   "execution_count": 37,
   "metadata": {},
   "outputs": [
    {
     "ename": "NameError",
     "evalue": "name 'a' is not defined",
     "output_type": "error",
     "traceback": [
      "\u001b[1;31m---------------------------------------------------------------------------\u001b[0m",
      "\u001b[1;31mNameError\u001b[0m                                 Traceback (most recent call last)",
      "\u001b[1;32m<ipython-input-37-3f786850e387>\u001b[0m in \u001b[0;36m<module>\u001b[1;34m\u001b[0m\n\u001b[1;32m----> 1\u001b[1;33m \u001b[0ma\u001b[0m\u001b[1;33m\u001b[0m\u001b[1;33m\u001b[0m\u001b[0m\n\u001b[0m",
      "\u001b[1;31mNameError\u001b[0m: name 'a' is not defined"
     ]
    }
   ],
   "source": [
    "a"
   ]
  },
  {
   "cell_type": "code",
   "execution_count": null,
   "metadata": {},
   "outputs": [],
   "source": []
  }
 ],
 "metadata": {
  "kernelspec": {
   "display_name": "Python 3",
   "language": "python",
   "name": "python3"
  },
  "language_info": {
   "codemirror_mode": {
    "name": "ipython",
    "version": 3
   },
   "file_extension": ".py",
   "mimetype": "text/x-python",
   "name": "python",
   "nbconvert_exporter": "python",
   "pygments_lexer": "ipython3",
   "version": "3.7.4"
  }
 },
 "nbformat": 4,
 "nbformat_minor": 2
}
